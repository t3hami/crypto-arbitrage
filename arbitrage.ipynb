{
 "cells": [
  {
   "cell_type": "code",
   "execution_count": 21,
   "metadata": {},
   "outputs": [
    {
     "name": "stdout",
     "output_type": "stream",
     "text": [
      "Type crypto currency: eth\n",
      "Type currency: eur\n",
      "High market name: Exmo\n",
      "High market price: 316.42907941eur\n",
      "High market name: Kraken\n",
      "High market price: 303.38000000eur\n"
     ]
    },
    {
     "data": {
      "text/html": [
       "<div>\n",
       "<style scoped>\n",
       "    .dataframe tbody tr th:only-of-type {\n",
       "        vertical-align: middle;\n",
       "    }\n",
       "\n",
       "    .dataframe tbody tr th {\n",
       "        vertical-align: top;\n",
       "    }\n",
       "\n",
       "    .dataframe thead th {\n",
       "        text-align: right;\n",
       "    }\n",
       "</style>\n",
       "<table border=\"1\" class=\"dataframe\">\n",
       "  <thead>\n",
       "    <tr style=\"text-align: right;\">\n",
       "      <th></th>\n",
       "      <th>market</th>\n",
       "      <th>price</th>\n",
       "      <th>volume</th>\n",
       "    </tr>\n",
       "  </thead>\n",
       "  <tbody>\n",
       "    <tr>\n",
       "      <th>0</th>\n",
       "      <td>BitFinex</td>\n",
       "      <td>306.31798722</td>\n",
       "      <td>827.459517</td>\n",
       "    </tr>\n",
       "    <tr>\n",
       "      <th>1</th>\n",
       "      <td>Cex.io</td>\n",
       "      <td>310.28000000</td>\n",
       "      <td>276.215227</td>\n",
       "    </tr>\n",
       "    <tr>\n",
       "      <th>2</th>\n",
       "      <td>Exmo</td>\n",
       "      <td>316.42907941</td>\n",
       "      <td>1015.957996</td>\n",
       "    </tr>\n",
       "    <tr>\n",
       "      <th>3</th>\n",
       "      <td>Kraken</td>\n",
       "      <td>303.38000000</td>\n",
       "      <td>38729.642552</td>\n",
       "    </tr>\n",
       "    <tr>\n",
       "      <th>4</th>\n",
       "      <td>wexnz</td>\n",
       "      <td>315.52830000</td>\n",
       "      <td>3612.828790</td>\n",
       "    </tr>\n",
       "  </tbody>\n",
       "</table>\n",
       "</div>"
      ],
      "text/plain": [
       "     market         price        volume\n",
       "0  BitFinex  306.31798722    827.459517\n",
       "1    Cex.io  310.28000000    276.215227\n",
       "2      Exmo  316.42907941   1015.957996\n",
       "3    Kraken  303.38000000  38729.642552\n",
       "4     wexnz  315.52830000   3612.828790"
      ]
     },
     "execution_count": 21,
     "metadata": {},
     "output_type": "execute_result"
    }
   ],
   "source": [
    "import requests\n",
    "import pandas as pd\n",
    "import matplotlib.pyplot as plt\n",
    "import numpy as np\n",
    "\n",
    "crypto_currencies= '''\n",
    "Bitcoin: BTC\n",
    "Bitcoin: Cash BCH\n",
    "Blackcoin: BLK\n",
    "Bytecoin: BCN\n",
    "Dash: DASH\n",
    "Dogecoin: DOGE\n",
    "Emercoin: EMC\n",
    "Ethereum: ETH\n",
    "Litecoin: LTC\n",
    "Monero: XMR\n",
    "Peercoin: PPC\n",
    "Primecoin: XPM\n",
    "Reddcoin: RDD\n",
    "Ripple: XRP\n",
    "Zcash: ZEC'''\n",
    "fiat_currencies = '''\n",
    "US Dollar: USD\n",
    "Euro EUR:\n",
    "Russian Ruble: RUR\n",
    "Ukrainian Hryvnia: UAH'''\n",
    "crypto = input('Type crypto currency: ')\n",
    "fiat = input('Type currency: ')\n",
    "\n",
    "data = requests.get('https://api.cryptonator.com/api/full/'+crypto+'-'+fiat).json()\n",
    "markets = pd.DataFrame(data['ticker']['markets'])\n",
    "high_market = markets.loc[markets['price'] == markets['price'].max()]\n",
    "low_market = markets.loc[markets['price'] == markets['price'].min()]\n",
    "print('High market name: ' + high_market.iloc[0]['market'])\n",
    "print('High market price: ' + high_market.iloc[0]['price']+fiat)\n",
    "print('High market name: ' + low_market.iloc[0]['market'])\n",
    "print('High market price: ' + low_market.iloc[0]['price']+fiat)\n",
    "markets"
   ]
  },
  {
   "cell_type": "code",
   "execution_count": 23,
   "metadata": {},
   "outputs": [
    {
     "data": {
      "text/plain": [
       "Text(0,0.5,'Volume')"
      ]
     },
     "execution_count": 23,
     "metadata": {},
     "output_type": "execute_result"
    },
    {
     "data": {
      "image/png": "[encoded data removed]",
      "text/plain": [
       "<matplotlib.figure.Figure at 0x2478c190a90>"
      ]
     },
     "metadata": {},
     "output_type": "display_data"
    }
   ],
   "source": [
    "y=markets['volume']\n",
    "z=markets['price']\n",
    "n=markets['market']\n",
    "\n",
    "fig, ax = plt.subplots()\n",
    "ax.scatter(z, y)\n",
    "\n",
    "for i, txt in enumerate(n):\n",
    "    ax.annotate(txt, (z[i],y[i]))\n",
    "plt.xlabel('Price in '+ fiat)\n",
    "plt.ylabel('Volume')"
   ]
  }
 ],
 "metadata": {
  "kernelspec": {
   "display_name": "Python 3",
   "language": "python",
   "name": "python3"
  },
  "language_info": {
   "codemirror_mode": {
    "name": "ipython",
    "version": 3
   },
   "file_extension": ".py",
   "mimetype": "text/x-python",
   "name": "python",
   "nbconvert_exporter": "python",
   "pygments_lexer": "ipython3",
   "version": "3.6.4"
  }
 },
 "nbformat": 4,
 "nbformat_minor": 2
}
